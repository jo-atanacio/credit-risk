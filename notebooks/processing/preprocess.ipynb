{
 "cells": [
  {
   "cell_type": "code",
   "execution_count": 1,
   "metadata": {},
   "outputs": [],
   "source": [
    "import numpy as np\n",
    "import pandas as pd\n",
    "import matplotlib.pyplot as plt\n",
    "import seaborn as sns"
   ]
  },
  {
   "cell_type": "markdown",
   "metadata": {},
   "source": [
    "## Load data\n",
    "\n",
    "I am using the [Lending Club dataset provided by Nathan George](https://www.kaggle.com/wordsforthewise/lending-club) that has all Lending Club loan features, which other datasets do not provide all features. I will work only with loans issued in 2018 to improve processing times.\n",
    "\n",
    "To simplify the process, only certain columns / variables will be used in order to keep the project simple."
   ]
  },
  {
   "cell_type": "code",
   "execution_count": 2,
   "metadata": {},
   "outputs": [],
   "source": [
    "data = pd.read_csv(\"../../Data/loan_data_07_18.csv\", low_memory=False)"
   ]
  },
  {
   "cell_type": "code",
   "execution_count": 3,
   "metadata": {},
   "outputs": [],
   "source": [
    "df = data[['emp_length', 'loan_status', 'home_ownership', 'issue_d',\n",
    "                          'earliest_cr_line', 'purpose', 'term', 'annual_inc', 'dti',\n",
    "                          'loan_amnt', 'int_rate', 'pub_rec_bankruptcies', 'grade']].copy()"
   ]
  },
  {
   "cell_type": "code",
   "execution_count": 4,
   "metadata": {},
   "outputs": [
    {
     "data": {
      "text/html": [
       "<div>\n",
       "<style scoped>\n",
       "    .dataframe tbody tr th:only-of-type {\n",
       "        vertical-align: middle;\n",
       "    }\n",
       "\n",
       "    .dataframe tbody tr th {\n",
       "        vertical-align: top;\n",
       "    }\n",
       "\n",
       "    .dataframe thead th {\n",
       "        text-align: right;\n",
       "    }\n",
       "</style>\n",
       "<table border=\"1\" class=\"dataframe\">\n",
       "  <thead>\n",
       "    <tr style=\"text-align: right;\">\n",
       "      <th></th>\n",
       "      <th>emp_length</th>\n",
       "      <th>loan_status</th>\n",
       "      <th>home_ownership</th>\n",
       "      <th>issue_d</th>\n",
       "      <th>earliest_cr_line</th>\n",
       "      <th>purpose</th>\n",
       "      <th>term</th>\n",
       "      <th>annual_inc</th>\n",
       "      <th>dti</th>\n",
       "      <th>loan_amnt</th>\n",
       "      <th>int_rate</th>\n",
       "      <th>pub_rec_bankruptcies</th>\n",
       "      <th>grade</th>\n",
       "    </tr>\n",
       "  </thead>\n",
       "  <tbody>\n",
       "    <tr>\n",
       "      <th>0</th>\n",
       "      <td>10+ years</td>\n",
       "      <td>Fully Paid</td>\n",
       "      <td>MORTGAGE</td>\n",
       "      <td>Dec-2015</td>\n",
       "      <td>Aug-2003</td>\n",
       "      <td>debt_consolidation</td>\n",
       "      <td>36 months</td>\n",
       "      <td>55000.0</td>\n",
       "      <td>5.91</td>\n",
       "      <td>3600.0</td>\n",
       "      <td>13.99</td>\n",
       "      <td>0.0</td>\n",
       "      <td>C</td>\n",
       "    </tr>\n",
       "    <tr>\n",
       "      <th>1</th>\n",
       "      <td>10+ years</td>\n",
       "      <td>Fully Paid</td>\n",
       "      <td>MORTGAGE</td>\n",
       "      <td>Dec-2015</td>\n",
       "      <td>Dec-1999</td>\n",
       "      <td>small_business</td>\n",
       "      <td>36 months</td>\n",
       "      <td>65000.0</td>\n",
       "      <td>16.06</td>\n",
       "      <td>24700.0</td>\n",
       "      <td>11.99</td>\n",
       "      <td>0.0</td>\n",
       "      <td>C</td>\n",
       "    </tr>\n",
       "    <tr>\n",
       "      <th>2</th>\n",
       "      <td>10+ years</td>\n",
       "      <td>Fully Paid</td>\n",
       "      <td>MORTGAGE</td>\n",
       "      <td>Dec-2015</td>\n",
       "      <td>Aug-2000</td>\n",
       "      <td>home_improvement</td>\n",
       "      <td>60 months</td>\n",
       "      <td>63000.0</td>\n",
       "      <td>10.78</td>\n",
       "      <td>20000.0</td>\n",
       "      <td>10.78</td>\n",
       "      <td>0.0</td>\n",
       "      <td>B</td>\n",
       "    </tr>\n",
       "    <tr>\n",
       "      <th>3</th>\n",
       "      <td>10+ years</td>\n",
       "      <td>Current</td>\n",
       "      <td>MORTGAGE</td>\n",
       "      <td>Dec-2015</td>\n",
       "      <td>Sep-2008</td>\n",
       "      <td>debt_consolidation</td>\n",
       "      <td>60 months</td>\n",
       "      <td>110000.0</td>\n",
       "      <td>17.06</td>\n",
       "      <td>35000.0</td>\n",
       "      <td>14.85</td>\n",
       "      <td>0.0</td>\n",
       "      <td>C</td>\n",
       "    </tr>\n",
       "    <tr>\n",
       "      <th>4</th>\n",
       "      <td>3 years</td>\n",
       "      <td>Fully Paid</td>\n",
       "      <td>MORTGAGE</td>\n",
       "      <td>Dec-2015</td>\n",
       "      <td>Jun-1998</td>\n",
       "      <td>major_purchase</td>\n",
       "      <td>60 months</td>\n",
       "      <td>104433.0</td>\n",
       "      <td>25.37</td>\n",
       "      <td>10400.0</td>\n",
       "      <td>22.45</td>\n",
       "      <td>0.0</td>\n",
       "      <td>F</td>\n",
       "    </tr>\n",
       "    <tr>\n",
       "      <th>...</th>\n",
       "      <td>...</td>\n",
       "      <td>...</td>\n",
       "      <td>...</td>\n",
       "      <td>...</td>\n",
       "      <td>...</td>\n",
       "      <td>...</td>\n",
       "      <td>...</td>\n",
       "      <td>...</td>\n",
       "      <td>...</td>\n",
       "      <td>...</td>\n",
       "      <td>...</td>\n",
       "      <td>...</td>\n",
       "      <td>...</td>\n",
       "    </tr>\n",
       "    <tr>\n",
       "      <th>2260696</th>\n",
       "      <td>9 years</td>\n",
       "      <td>Current</td>\n",
       "      <td>MORTGAGE</td>\n",
       "      <td>Oct-2016</td>\n",
       "      <td>Feb-1995</td>\n",
       "      <td>debt_consolidation</td>\n",
       "      <td>60 months</td>\n",
       "      <td>227000.0</td>\n",
       "      <td>12.75</td>\n",
       "      <td>40000.0</td>\n",
       "      <td>10.49</td>\n",
       "      <td>0.0</td>\n",
       "      <td>B</td>\n",
       "    </tr>\n",
       "    <tr>\n",
       "      <th>2260697</th>\n",
       "      <td>6 years</td>\n",
       "      <td>Charged Off</td>\n",
       "      <td>RENT</td>\n",
       "      <td>Oct-2016</td>\n",
       "      <td>Jul-1999</td>\n",
       "      <td>debt_consolidation</td>\n",
       "      <td>60 months</td>\n",
       "      <td>110000.0</td>\n",
       "      <td>18.30</td>\n",
       "      <td>24000.0</td>\n",
       "      <td>14.49</td>\n",
       "      <td>1.0</td>\n",
       "      <td>C</td>\n",
       "    </tr>\n",
       "    <tr>\n",
       "      <th>2260698</th>\n",
       "      <td>10+ years</td>\n",
       "      <td>Current</td>\n",
       "      <td>MORTGAGE</td>\n",
       "      <td>Oct-2016</td>\n",
       "      <td>Jun-1996</td>\n",
       "      <td>debt_consolidation</td>\n",
       "      <td>60 months</td>\n",
       "      <td>95000.0</td>\n",
       "      <td>23.36</td>\n",
       "      <td>14000.0</td>\n",
       "      <td>14.49</td>\n",
       "      <td>0.0</td>\n",
       "      <td>C</td>\n",
       "    </tr>\n",
       "    <tr>\n",
       "      <th>2260699</th>\n",
       "      <td>NaN</td>\n",
       "      <td>NaN</td>\n",
       "      <td>NaN</td>\n",
       "      <td>NaN</td>\n",
       "      <td>NaN</td>\n",
       "      <td>NaN</td>\n",
       "      <td>NaN</td>\n",
       "      <td>NaN</td>\n",
       "      <td>NaN</td>\n",
       "      <td>NaN</td>\n",
       "      <td>NaN</td>\n",
       "      <td>NaN</td>\n",
       "      <td>NaN</td>\n",
       "    </tr>\n",
       "    <tr>\n",
       "      <th>2260700</th>\n",
       "      <td>NaN</td>\n",
       "      <td>NaN</td>\n",
       "      <td>NaN</td>\n",
       "      <td>NaN</td>\n",
       "      <td>NaN</td>\n",
       "      <td>NaN</td>\n",
       "      <td>NaN</td>\n",
       "      <td>NaN</td>\n",
       "      <td>NaN</td>\n",
       "      <td>NaN</td>\n",
       "      <td>NaN</td>\n",
       "      <td>NaN</td>\n",
       "      <td>NaN</td>\n",
       "    </tr>\n",
       "  </tbody>\n",
       "</table>\n",
       "<p>2260701 rows × 13 columns</p>\n",
       "</div>"
      ],
      "text/plain": [
       "        emp_length  loan_status home_ownership   issue_d earliest_cr_line  \\\n",
       "0        10+ years   Fully Paid       MORTGAGE  Dec-2015         Aug-2003   \n",
       "1        10+ years   Fully Paid       MORTGAGE  Dec-2015         Dec-1999   \n",
       "2        10+ years   Fully Paid       MORTGAGE  Dec-2015         Aug-2000   \n",
       "3        10+ years      Current       MORTGAGE  Dec-2015         Sep-2008   \n",
       "4          3 years   Fully Paid       MORTGAGE  Dec-2015         Jun-1998   \n",
       "...            ...          ...            ...       ...              ...   \n",
       "2260696    9 years      Current       MORTGAGE  Oct-2016         Feb-1995   \n",
       "2260697    6 years  Charged Off           RENT  Oct-2016         Jul-1999   \n",
       "2260698  10+ years      Current       MORTGAGE  Oct-2016         Jun-1996   \n",
       "2260699        NaN          NaN            NaN       NaN              NaN   \n",
       "2260700        NaN          NaN            NaN       NaN              NaN   \n",
       "\n",
       "                    purpose        term  annual_inc    dti  loan_amnt  \\\n",
       "0        debt_consolidation   36 months     55000.0   5.91     3600.0   \n",
       "1            small_business   36 months     65000.0  16.06    24700.0   \n",
       "2          home_improvement   60 months     63000.0  10.78    20000.0   \n",
       "3        debt_consolidation   60 months    110000.0  17.06    35000.0   \n",
       "4            major_purchase   60 months    104433.0  25.37    10400.0   \n",
       "...                     ...         ...         ...    ...        ...   \n",
       "2260696  debt_consolidation   60 months    227000.0  12.75    40000.0   \n",
       "2260697  debt_consolidation   60 months    110000.0  18.30    24000.0   \n",
       "2260698  debt_consolidation   60 months     95000.0  23.36    14000.0   \n",
       "2260699                 NaN         NaN         NaN    NaN        NaN   \n",
       "2260700                 NaN         NaN         NaN    NaN        NaN   \n",
       "\n",
       "         int_rate  pub_rec_bankruptcies grade  \n",
       "0           13.99                   0.0     C  \n",
       "1           11.99                   0.0     C  \n",
       "2           10.78                   0.0     B  \n",
       "3           14.85                   0.0     C  \n",
       "4           22.45                   0.0     F  \n",
       "...           ...                   ...   ...  \n",
       "2260696     10.49                   0.0     B  \n",
       "2260697     14.49                   1.0     C  \n",
       "2260698     14.49                   0.0     C  \n",
       "2260699       NaN                   NaN   NaN  \n",
       "2260700       NaN                   NaN   NaN  \n",
       "\n",
       "[2260701 rows x 13 columns]"
      ]
     },
     "execution_count": 4,
     "metadata": {},
     "output_type": "execute_result"
    }
   ],
   "source": [
    "df"
   ]
  },
  {
   "cell_type": "code",
   "execution_count": 5,
   "metadata": {},
   "outputs": [
    {
     "name": "stdout",
     "output_type": "stream",
     "text": [
      "<class 'pandas.core.frame.DataFrame'>\n",
      "RangeIndex: 2260701 entries, 0 to 2260700\n",
      "Data columns (total 13 columns):\n",
      " #   Column                Dtype  \n",
      "---  ------                -----  \n",
      " 0   emp_length            object \n",
      " 1   loan_status           object \n",
      " 2   home_ownership        object \n",
      " 3   issue_d               object \n",
      " 4   earliest_cr_line      object \n",
      " 5   purpose               object \n",
      " 6   term                  object \n",
      " 7   annual_inc            float64\n",
      " 8   dti                   float64\n",
      " 9   loan_amnt             float64\n",
      " 10  int_rate              float64\n",
      " 11  pub_rec_bankruptcies  float64\n",
      " 12  grade                 object \n",
      "dtypes: float64(5), object(8)\n",
      "memory usage: 224.2+ MB\n"
     ]
    }
   ],
   "source": [
    "df.info()"
   ]
  },
  {
   "cell_type": "markdown",
   "metadata": {},
   "source": [
    "### Fix dtypes"
   ]
  },
  {
   "cell_type": "code",
   "execution_count": 6,
   "metadata": {},
   "outputs": [],
   "source": [
    "# Lets fix the dtypes\n",
    "\n",
    "## Convert to datetime\n",
    "df[\"earliest_cr_line\"] = pd.to_datetime(df['earliest_cr_line'], format='%b-%Y')\n",
    "df[\"issue_d\"] = pd.to_datetime(df['issue_d'], format='%b-%Y')"
   ]
  },
  {
   "cell_type": "markdown",
   "metadata": {},
   "source": [
    "### Missing data"
   ]
  },
  {
   "cell_type": "code",
   "execution_count": 7,
   "metadata": {},
   "outputs": [
    {
     "data": {
      "text/plain": [
       "emp_length              146940\n",
       "loan_status                 33\n",
       "home_ownership              33\n",
       "issue_d                     33\n",
       "earliest_cr_line            62\n",
       "purpose                     33\n",
       "term                        33\n",
       "annual_inc                  37\n",
       "dti                       1744\n",
       "loan_amnt                   33\n",
       "int_rate                    33\n",
       "pub_rec_bankruptcies      1398\n",
       "grade                       33\n",
       "dtype: int64"
      ]
     },
     "execution_count": 7,
     "metadata": {},
     "output_type": "execute_result"
    }
   ],
   "source": [
    "df.isnull().sum()"
   ]
  },
  {
   "cell_type": "markdown",
   "metadata": {},
   "source": [
    "PERSONAL DATA\n",
    "\n",
    "Gives an idea to the lender about the borrower's general trustworthiness, credibility and personality.\n",
    "\n",
    "- <code>'earliest_cr_line'</code> shows the first credit line on the customer credit report.\n",
    "- <code>'issue_d'</code> shows when the loan was issued.\n",
    "- <code>'pub_rec_bankruptcies'</code> shows the number of bankruptcies on file."
   ]
  },
  {
   "cell_type": "code",
   "execution_count": 8,
   "metadata": {},
   "outputs": [],
   "source": [
    "p_df = df[['pub_rec_bankruptcies', 'earliest_cr_line', 'issue_d']].copy()"
   ]
  },
  {
   "cell_type": "code",
   "execution_count": 9,
   "metadata": {},
   "outputs": [
    {
     "data": {
      "text/plain": [
       "pub_rec_bankruptcies    1398\n",
       "earliest_cr_line          62\n",
       "issue_d                   33\n",
       "dtype: int64"
      ]
     },
     "execution_count": 9,
     "metadata": {},
     "output_type": "execute_result"
    }
   ],
   "source": [
    "p_df.isnull().sum()"
   ]
  },
  {
   "cell_type": "code",
   "execution_count": 10,
   "metadata": {},
   "outputs": [],
   "source": [
    "## Fill in missing values by the most recurring value\n",
    "p_df['pub_rec_bankruptcies'].fillna(p_df['pub_rec_bankruptcies']\\\n",
    "                              .value_counts().index[0], inplace=True)\n",
    "p_df['earliest_cr_line'].fillna(p_df['earliest_cr_line']\\\n",
    "                              .value_counts().index[0], inplace=True)\n",
    "p_df['issue_d'].fillna(p_df['issue_d']\\\n",
    "                              .value_counts().index[0], inplace=True)"
   ]
  },
  {
   "cell_type": "code",
   "execution_count": 11,
   "metadata": {},
   "outputs": [
    {
     "data": {
      "text/html": [
       "<div>\n",
       "<style scoped>\n",
       "    .dataframe tbody tr th:only-of-type {\n",
       "        vertical-align: middle;\n",
       "    }\n",
       "\n",
       "    .dataframe tbody tr th {\n",
       "        vertical-align: top;\n",
       "    }\n",
       "\n",
       "    .dataframe thead th {\n",
       "        text-align: right;\n",
       "    }\n",
       "</style>\n",
       "<table border=\"1\" class=\"dataframe\">\n",
       "  <thead>\n",
       "    <tr style=\"text-align: right;\">\n",
       "      <th></th>\n",
       "      <th>pub_rec_bankruptcies</th>\n",
       "      <th>earliest_cr_line</th>\n",
       "      <th>issue_d</th>\n",
       "      <th>credit_hist</th>\n",
       "    </tr>\n",
       "  </thead>\n",
       "  <tbody>\n",
       "    <tr>\n",
       "      <th>0</th>\n",
       "      <td>0.0</td>\n",
       "      <td>2003-08-01</td>\n",
       "      <td>2015-12-01</td>\n",
       "      <td>150</td>\n",
       "    </tr>\n",
       "    <tr>\n",
       "      <th>1</th>\n",
       "      <td>0.0</td>\n",
       "      <td>1999-12-01</td>\n",
       "      <td>2015-12-01</td>\n",
       "      <td>194</td>\n",
       "    </tr>\n",
       "    <tr>\n",
       "      <th>2</th>\n",
       "      <td>0.0</td>\n",
       "      <td>2000-08-01</td>\n",
       "      <td>2015-12-01</td>\n",
       "      <td>186</td>\n",
       "    </tr>\n",
       "    <tr>\n",
       "      <th>3</th>\n",
       "      <td>0.0</td>\n",
       "      <td>2008-09-01</td>\n",
       "      <td>2015-12-01</td>\n",
       "      <td>88</td>\n",
       "    </tr>\n",
       "    <tr>\n",
       "      <th>4</th>\n",
       "      <td>0.0</td>\n",
       "      <td>1998-06-01</td>\n",
       "      <td>2015-12-01</td>\n",
       "      <td>213</td>\n",
       "    </tr>\n",
       "  </tbody>\n",
       "</table>\n",
       "</div>"
      ],
      "text/plain": [
       "   pub_rec_bankruptcies earliest_cr_line    issue_d  credit_hist\n",
       "0                   0.0       2003-08-01 2015-12-01          150\n",
       "1                   0.0       1999-12-01 2015-12-01          194\n",
       "2                   0.0       2000-08-01 2015-12-01          186\n",
       "3                   0.0       2008-09-01 2015-12-01           88\n",
       "4                   0.0       1998-06-01 2015-12-01          213"
      ]
     },
     "execution_count": 11,
     "metadata": {},
     "output_type": "execute_result"
    }
   ],
   "source": [
    "# Create a new column with the credit history in months\n",
    "p_df['credit_hist'] = (((p_df['issue_d'] - p_df['earliest_cr_line']).dt.days))/ 30\n",
    "p_df['credit_hist'] = p_df['credit_hist'].astype(int)\n",
    "\n",
    "p_df.head()"
   ]
  },
  {
   "cell_type": "code",
   "execution_count": 12,
   "metadata": {},
   "outputs": [
    {
     "data": {
      "text/html": [
       "<div>\n",
       "<style scoped>\n",
       "    .dataframe tbody tr th:only-of-type {\n",
       "        vertical-align: middle;\n",
       "    }\n",
       "\n",
       "    .dataframe tbody tr th {\n",
       "        vertical-align: top;\n",
       "    }\n",
       "\n",
       "    .dataframe thead th {\n",
       "        text-align: right;\n",
       "    }\n",
       "</style>\n",
       "<table border=\"1\" class=\"dataframe\">\n",
       "  <thead>\n",
       "    <tr style=\"text-align: right;\">\n",
       "      <th></th>\n",
       "      <th>pub_rec_bankruptcies</th>\n",
       "      <th>earliest_cr_line</th>\n",
       "      <th>issue_d</th>\n",
       "      <th>credit_hist</th>\n",
       "      <th>bankrupt</th>\n",
       "    </tr>\n",
       "  </thead>\n",
       "  <tbody>\n",
       "    <tr>\n",
       "      <th>0</th>\n",
       "      <td>0.0</td>\n",
       "      <td>2003-08-01</td>\n",
       "      <td>2015-12-01</td>\n",
       "      <td>150</td>\n",
       "      <td>0</td>\n",
       "    </tr>\n",
       "    <tr>\n",
       "      <th>1</th>\n",
       "      <td>0.0</td>\n",
       "      <td>1999-12-01</td>\n",
       "      <td>2015-12-01</td>\n",
       "      <td>194</td>\n",
       "      <td>0</td>\n",
       "    </tr>\n",
       "    <tr>\n",
       "      <th>2</th>\n",
       "      <td>0.0</td>\n",
       "      <td>2000-08-01</td>\n",
       "      <td>2015-12-01</td>\n",
       "      <td>186</td>\n",
       "      <td>0</td>\n",
       "    </tr>\n",
       "    <tr>\n",
       "      <th>3</th>\n",
       "      <td>0.0</td>\n",
       "      <td>2008-09-01</td>\n",
       "      <td>2015-12-01</td>\n",
       "      <td>88</td>\n",
       "      <td>0</td>\n",
       "    </tr>\n",
       "    <tr>\n",
       "      <th>4</th>\n",
       "      <td>0.0</td>\n",
       "      <td>1998-06-01</td>\n",
       "      <td>2015-12-01</td>\n",
       "      <td>213</td>\n",
       "      <td>0</td>\n",
       "    </tr>\n",
       "  </tbody>\n",
       "</table>\n",
       "</div>"
      ],
      "text/plain": [
       "   pub_rec_bankruptcies earliest_cr_line    issue_d  credit_hist  bankrupt\n",
       "0                   0.0       2003-08-01 2015-12-01          150         0\n",
       "1                   0.0       1999-12-01 2015-12-01          194         0\n",
       "2                   0.0       2000-08-01 2015-12-01          186         0\n",
       "3                   0.0       2008-09-01 2015-12-01           88         0\n",
       "4                   0.0       1998-06-01 2015-12-01          213         0"
      ]
     },
     "execution_count": 12,
     "metadata": {},
     "output_type": "execute_result"
    }
   ],
   "source": [
    "# Create a dummy column\n",
    "p_df['bankrupt'] = p_df['pub_rec_bankruptcies']\\\n",
    "    .apply(lambda x: 1 if x >= 1 else 0)\n",
    "\n",
    "p_df.head()"
   ]
  },
  {
   "cell_type": "code",
   "execution_count": 13,
   "metadata": {},
   "outputs": [
    {
     "data": {
      "text/html": [
       "<div>\n",
       "<style scoped>\n",
       "    .dataframe tbody tr th:only-of-type {\n",
       "        vertical-align: middle;\n",
       "    }\n",
       "\n",
       "    .dataframe tbody tr th {\n",
       "        vertical-align: top;\n",
       "    }\n",
       "\n",
       "    .dataframe thead th {\n",
       "        text-align: right;\n",
       "    }\n",
       "</style>\n",
       "<table border=\"1\" class=\"dataframe\">\n",
       "  <thead>\n",
       "    <tr style=\"text-align: right;\">\n",
       "      <th></th>\n",
       "      <th>credit_hist</th>\n",
       "      <th>bankrupt</th>\n",
       "    </tr>\n",
       "  </thead>\n",
       "  <tbody>\n",
       "    <tr>\n",
       "      <th>0</th>\n",
       "      <td>150</td>\n",
       "      <td>0</td>\n",
       "    </tr>\n",
       "    <tr>\n",
       "      <th>1</th>\n",
       "      <td>194</td>\n",
       "      <td>0</td>\n",
       "    </tr>\n",
       "    <tr>\n",
       "      <th>2</th>\n",
       "      <td>186</td>\n",
       "      <td>0</td>\n",
       "    </tr>\n",
       "    <tr>\n",
       "      <th>3</th>\n",
       "      <td>88</td>\n",
       "      <td>0</td>\n",
       "    </tr>\n",
       "    <tr>\n",
       "      <th>4</th>\n",
       "      <td>213</td>\n",
       "      <td>0</td>\n",
       "    </tr>\n",
       "  </tbody>\n",
       "</table>\n",
       "</div>"
      ],
      "text/plain": [
       "   credit_hist  bankrupt\n",
       "0          150         0\n",
       "1          194         0\n",
       "2          186         0\n",
       "3           88         0\n",
       "4          213         0"
      ]
     },
     "execution_count": 13,
     "metadata": {},
     "output_type": "execute_result"
    }
   ],
   "source": [
    "# drop the old features from the character_df\n",
    "p_df.drop(['pub_rec_bankruptcies', 'earliest_cr_line', 'issue_d'], axis=1, inplace=True)\n",
    "p_df.head()"
   ]
  },
  {
   "cell_type": "markdown",
   "metadata": {},
   "source": [
    "BORROWER'S CAPACITY TO PAY\n",
    "\n",
    "Ability to repay the loan based on annual income and debt-to-income ratio.\n",
    "\n",
    "- <code>'annual_inc'</code>\n",
    "- <code>'dti'</code>"
   ]
  },
  {
   "cell_type": "code",
   "execution_count": 14,
   "metadata": {},
   "outputs": [
    {
     "data": {
      "text/html": [
       "<div>\n",
       "<style scoped>\n",
       "    .dataframe tbody tr th:only-of-type {\n",
       "        vertical-align: middle;\n",
       "    }\n",
       "\n",
       "    .dataframe tbody tr th {\n",
       "        vertical-align: top;\n",
       "    }\n",
       "\n",
       "    .dataframe thead th {\n",
       "        text-align: right;\n",
       "    }\n",
       "</style>\n",
       "<table border=\"1\" class=\"dataframe\">\n",
       "  <thead>\n",
       "    <tr style=\"text-align: right;\">\n",
       "      <th></th>\n",
       "      <th>annual_inc</th>\n",
       "      <th>dti</th>\n",
       "    </tr>\n",
       "  </thead>\n",
       "  <tbody>\n",
       "    <tr>\n",
       "      <th>0</th>\n",
       "      <td>55000.0</td>\n",
       "      <td>5.91</td>\n",
       "    </tr>\n",
       "    <tr>\n",
       "      <th>1</th>\n",
       "      <td>65000.0</td>\n",
       "      <td>16.06</td>\n",
       "    </tr>\n",
       "    <tr>\n",
       "      <th>2</th>\n",
       "      <td>63000.0</td>\n",
       "      <td>10.78</td>\n",
       "    </tr>\n",
       "    <tr>\n",
       "      <th>3</th>\n",
       "      <td>110000.0</td>\n",
       "      <td>17.06</td>\n",
       "    </tr>\n",
       "    <tr>\n",
       "      <th>4</th>\n",
       "      <td>104433.0</td>\n",
       "      <td>25.37</td>\n",
       "    </tr>\n",
       "  </tbody>\n",
       "</table>\n",
       "</div>"
      ],
      "text/plain": [
       "   annual_inc    dti\n",
       "0     55000.0   5.91\n",
       "1     65000.0  16.06\n",
       "2     63000.0  10.78\n",
       "3    110000.0  17.06\n",
       "4    104433.0  25.37"
      ]
     },
     "execution_count": 14,
     "metadata": {},
     "output_type": "execute_result"
    }
   ],
   "source": [
    "capacity_df = df[['annual_inc', 'dti']].copy()\n",
    "capacity_df.head()"
   ]
  },
  {
   "cell_type": "code",
   "execution_count": 15,
   "metadata": {},
   "outputs": [
    {
     "data": {
      "text/plain": [
       "annual_inc      37\n",
       "dti           1744\n",
       "dtype: int64"
      ]
     },
     "execution_count": 15,
     "metadata": {},
     "output_type": "execute_result"
    }
   ],
   "source": [
    "capacity_df.isnull().sum()"
   ]
  },
  {
   "cell_type": "code",
   "execution_count": 16,
   "metadata": {},
   "outputs": [],
   "source": [
    "# fill missing values for annual income with the mean\n",
    "capacity_df['annual_inc'] = capacity_df['annual_inc'].fillna(capacity_df['annual_inc'].mean())\n",
    "\n",
    "# fill missing values for dti with the mean\n",
    "capacity_df['dti'] = capacity_df['dti'].fillna(capacity_df['dti'].mean())"
   ]
  },
  {
   "cell_type": "markdown",
   "metadata": {},
   "source": [
    "CONDITION OF THE LOAN\n",
    "\n",
    "Conditions given to the borrower on the loan, such as loan amount, interest rate, and term.\n",
    "\n",
    "- <code>'loan_amnt'</code>\n",
    "- <code>'int_rate'</code>\n",
    "- <code>'term'</code>"
   ]
  },
  {
   "cell_type": "code",
   "execution_count": 17,
   "metadata": {},
   "outputs": [],
   "source": [
    "c_df = df[['loan_amnt', 'int_rate', 'term']].copy()"
   ]
  },
  {
   "cell_type": "code",
   "execution_count": 18,
   "metadata": {},
   "outputs": [
    {
     "data": {
      "text/plain": [
       "loan_amnt    33\n",
       "int_rate     33\n",
       "term         33\n",
       "dtype: int64"
      ]
     },
     "execution_count": 18,
     "metadata": {},
     "output_type": "execute_result"
    }
   ],
   "source": [
    "c_df.isnull().sum()"
   ]
  },
  {
   "cell_type": "code",
   "execution_count": 19,
   "metadata": {},
   "outputs": [],
   "source": [
    "# Fill missing values with mean\n",
    "c_df['loan_amnt'] = c_df['loan_amnt'].fillna(c_df['loan_amnt'].mean())\n",
    "c_df['int_rate'] = c_df['int_rate'].fillna(c_df['int_rate'].mean())"
   ]
  },
  {
   "cell_type": "code",
   "execution_count": 20,
   "metadata": {},
   "outputs": [
    {
     "data": {
      "text/html": [
       "<div>\n",
       "<style scoped>\n",
       "    .dataframe tbody tr th:only-of-type {\n",
       "        vertical-align: middle;\n",
       "    }\n",
       "\n",
       "    .dataframe tbody tr th {\n",
       "        vertical-align: top;\n",
       "    }\n",
       "\n",
       "    .dataframe thead th {\n",
       "        text-align: right;\n",
       "    }\n",
       "</style>\n",
       "<table border=\"1\" class=\"dataframe\">\n",
       "  <thead>\n",
       "    <tr style=\"text-align: right;\">\n",
       "      <th></th>\n",
       "      <th>loan_amnt</th>\n",
       "      <th>int_rate</th>\n",
       "      <th>term_60</th>\n",
       "    </tr>\n",
       "  </thead>\n",
       "  <tbody>\n",
       "    <tr>\n",
       "      <th>0</th>\n",
       "      <td>3600.0</td>\n",
       "      <td>13.99</td>\n",
       "      <td>0.0</td>\n",
       "    </tr>\n",
       "    <tr>\n",
       "      <th>1</th>\n",
       "      <td>24700.0</td>\n",
       "      <td>11.99</td>\n",
       "      <td>0.0</td>\n",
       "    </tr>\n",
       "    <tr>\n",
       "      <th>2</th>\n",
       "      <td>20000.0</td>\n",
       "      <td>10.78</td>\n",
       "      <td>1.0</td>\n",
       "    </tr>\n",
       "    <tr>\n",
       "      <th>3</th>\n",
       "      <td>35000.0</td>\n",
       "      <td>14.85</td>\n",
       "      <td>1.0</td>\n",
       "    </tr>\n",
       "    <tr>\n",
       "      <th>4</th>\n",
       "      <td>10400.0</td>\n",
       "      <td>22.45</td>\n",
       "      <td>1.0</td>\n",
       "    </tr>\n",
       "  </tbody>\n",
       "</table>\n",
       "</div>"
      ],
      "text/plain": [
       "   loan_amnt  int_rate  term_60\n",
       "0     3600.0     13.99      0.0\n",
       "1    24700.0     11.99      0.0\n",
       "2    20000.0     10.78      1.0\n",
       "3    35000.0     14.85      1.0\n",
       "4    10400.0     22.45      1.0"
      ]
     },
     "execution_count": 20,
     "metadata": {},
     "output_type": "execute_result"
    }
   ],
   "source": [
    "# Convert values of term to 0, 1 where 0 = 36 months and 1 = 60 months\n",
    "c_df['term'] = c_df['term'].replace({' 36 months': 0,\n",
    "                                                       ' 60 months': 1})\n",
    "\n",
    "# convert term into an integer data type \n",
    "c_df['term'] = c_df['term'].fillna(c_df['term'].value_counts().index[0])\n",
    "\n",
    "# Rename term column\n",
    "c_df = c_df.rename(columns={'term': 'term_60'})\n",
    "\n",
    "c_df.head()"
   ]
  },
  {
   "cell_type": "markdown",
   "metadata": {},
   "source": [
    "COLLATERAL \n",
    "\n",
    "Borrowers provide an asset to secure a loan\n",
    "\n",
    "- <code>'home_ownership'</code>"
   ]
  },
  {
   "cell_type": "code",
   "execution_count": 21,
   "metadata": {},
   "outputs": [
    {
     "data": {
      "text/plain": [
       "home_ownership\n",
       "MORTGAGE          1111450\n",
       "RENT               894929\n",
       "OWN                253057\n",
       "ANY                   996\n",
       "OTHER                 182\n",
       "NONE                   54\n",
       "Name: count, dtype: int64"
      ]
     },
     "execution_count": 21,
     "metadata": {},
     "output_type": "execute_result"
    }
   ],
   "source": [
    "col_df = df[['home_ownership']].copy()\n",
    "col_df.value_counts()"
   ]
  },
  {
   "cell_type": "code",
   "execution_count": 22,
   "metadata": {},
   "outputs": [
    {
     "data": {
      "text/html": [
       "<div>\n",
       "<style scoped>\n",
       "    .dataframe tbody tr th:only-of-type {\n",
       "        vertical-align: middle;\n",
       "    }\n",
       "\n",
       "    .dataframe tbody tr th {\n",
       "        vertical-align: top;\n",
       "    }\n",
       "\n",
       "    .dataframe thead th {\n",
       "        text-align: right;\n",
       "    }\n",
       "</style>\n",
       "<table border=\"1\" class=\"dataframe\">\n",
       "  <thead>\n",
       "    <tr style=\"text-align: right;\">\n",
       "      <th></th>\n",
       "      <th>home_ownership_ANY</th>\n",
       "      <th>home_ownership_MORTGAGE</th>\n",
       "      <th>home_ownership_NONE</th>\n",
       "      <th>home_ownership_OTHER</th>\n",
       "      <th>home_ownership_OWN</th>\n",
       "      <th>home_ownership_RENT</th>\n",
       "    </tr>\n",
       "  </thead>\n",
       "  <tbody>\n",
       "    <tr>\n",
       "      <th>0</th>\n",
       "      <td>0</td>\n",
       "      <td>1</td>\n",
       "      <td>0</td>\n",
       "      <td>0</td>\n",
       "      <td>0</td>\n",
       "      <td>0</td>\n",
       "    </tr>\n",
       "    <tr>\n",
       "      <th>1</th>\n",
       "      <td>0</td>\n",
       "      <td>1</td>\n",
       "      <td>0</td>\n",
       "      <td>0</td>\n",
       "      <td>0</td>\n",
       "      <td>0</td>\n",
       "    </tr>\n",
       "    <tr>\n",
       "      <th>2</th>\n",
       "      <td>0</td>\n",
       "      <td>1</td>\n",
       "      <td>0</td>\n",
       "      <td>0</td>\n",
       "      <td>0</td>\n",
       "      <td>0</td>\n",
       "    </tr>\n",
       "    <tr>\n",
       "      <th>3</th>\n",
       "      <td>0</td>\n",
       "      <td>1</td>\n",
       "      <td>0</td>\n",
       "      <td>0</td>\n",
       "      <td>0</td>\n",
       "      <td>0</td>\n",
       "    </tr>\n",
       "    <tr>\n",
       "      <th>4</th>\n",
       "      <td>0</td>\n",
       "      <td>1</td>\n",
       "      <td>0</td>\n",
       "      <td>0</td>\n",
       "      <td>0</td>\n",
       "      <td>0</td>\n",
       "    </tr>\n",
       "  </tbody>\n",
       "</table>\n",
       "</div>"
      ],
      "text/plain": [
       "   home_ownership_ANY  home_ownership_MORTGAGE  home_ownership_NONE  \\\n",
       "0                   0                        1                    0   \n",
       "1                   0                        1                    0   \n",
       "2                   0                        1                    0   \n",
       "3                   0                        1                    0   \n",
       "4                   0                        1                    0   \n",
       "\n",
       "   home_ownership_OTHER  home_ownership_OWN  home_ownership_RENT  \n",
       "0                     0                   0                    0  \n",
       "1                     0                   0                    0  \n",
       "2                     0                   0                    0  \n",
       "3                     0                   0                    0  \n",
       "4                     0                   0                    0  "
      ]
     },
     "execution_count": 22,
     "metadata": {},
     "output_type": "execute_result"
    }
   ],
   "source": [
    "# create emp_length dummy data frame\n",
    "home_ownership = pd.DataFrame(pd.get_dummies(col_df['home_ownership'], prefix='home_ownership', dtype=int))\n",
    "\n",
    "# join the loan_amnt dummy dataframe to conditions_df\n",
    "col_df = pd.concat([col_df, home_ownership], axis=1, sort=False)\n",
    "\n",
    "# drop original emp_length feature\n",
    "col_df.drop(['home_ownership'], axis=1, inplace=True)\n",
    "\n",
    "col_df.head()"
   ]
  },
  {
   "cell_type": "markdown",
   "metadata": {},
   "source": [
    "Loan Status\n",
    "\n",
    "Current Status of the Loan. Target variable Y\n",
    "\n",
    "- <code>'loan_status'</code>"
   ]
  },
  {
   "cell_type": "code",
   "execution_count": 23,
   "metadata": {},
   "outputs": [
    {
     "data": {
      "text/plain": [
       "loan_status\n",
       "Fully Paid                                             1076751\n",
       "Current                                                 878317\n",
       "Charged Off                                             268559\n",
       "Late (31-120 days)                                       21467\n",
       "In Grace Period                                           8436\n",
       "Late (16-30 days)                                         4349\n",
       "Does not meet the credit policy. Status:Fully Paid        1988\n",
       "Does not meet the credit policy. Status:Charged Off        761\n",
       "Default                                                     40\n",
       "Name: count, dtype: int64"
      ]
     },
     "execution_count": 23,
     "metadata": {},
     "output_type": "execute_result"
    }
   ],
   "source": [
    "loan_status_df = df[['loan_status']].copy()\n",
    "loan_status_df.loan_status.value_counts()"
   ]
  },
  {
   "cell_type": "code",
   "execution_count": 24,
   "metadata": {},
   "outputs": [
    {
     "data": {
      "text/plain": [
       "loan_status\n",
       "0.0    1957056\n",
       "1.0     303612\n",
       "Name: count, dtype: int64"
      ]
     },
     "execution_count": 24,
     "metadata": {},
     "output_type": "execute_result"
    }
   ],
   "source": [
    "loan_status_df['loan_status'] = loan_status_df['loan_status'].replace({'Fully Paid': 0, 'Current': 0, 'Charged Off': 1,\n",
    "                                                                       'Late (31-120 days)': 1, 'In Grace Period': 1,\n",
    "                                                                       'Late (16-30 days)':1,\n",
    "                                                                       'Does not meet the credit policy. Status:Fully Paid': 0,\n",
    "                                                                       'Does not meet the credit policy. Status:Charged Off': 1,\n",
    "                                                                       'Default':1})\n",
    "loan_status_df.loan_status.value_counts()"
   ]
  },
  {
   "cell_type": "markdown",
   "metadata": {},
   "source": [
    "# Finalize working dataset"
   ]
  },
  {
   "cell_type": "code",
   "execution_count": 25,
   "metadata": {},
   "outputs": [
    {
     "data": {
      "text/html": [
       "<div>\n",
       "<style scoped>\n",
       "    .dataframe tbody tr th:only-of-type {\n",
       "        vertical-align: middle;\n",
       "    }\n",
       "\n",
       "    .dataframe tbody tr th {\n",
       "        vertical-align: top;\n",
       "    }\n",
       "\n",
       "    .dataframe thead th {\n",
       "        text-align: right;\n",
       "    }\n",
       "</style>\n",
       "<table border=\"1\" class=\"dataframe\">\n",
       "  <thead>\n",
       "    <tr style=\"text-align: right;\">\n",
       "      <th></th>\n",
       "      <th>credit_hist</th>\n",
       "      <th>bankrupt</th>\n",
       "      <th>annual_inc</th>\n",
       "      <th>dti</th>\n",
       "      <th>loan_amnt</th>\n",
       "      <th>int_rate</th>\n",
       "      <th>term_60</th>\n",
       "      <th>home_ownership_ANY</th>\n",
       "      <th>home_ownership_MORTGAGE</th>\n",
       "      <th>home_ownership_NONE</th>\n",
       "      <th>home_ownership_OTHER</th>\n",
       "      <th>home_ownership_OWN</th>\n",
       "      <th>home_ownership_RENT</th>\n",
       "      <th>loan_status</th>\n",
       "      <th>grade</th>\n",
       "    </tr>\n",
       "  </thead>\n",
       "  <tbody>\n",
       "    <tr>\n",
       "      <th>0</th>\n",
       "      <td>150</td>\n",
       "      <td>0</td>\n",
       "      <td>55000.0</td>\n",
       "      <td>5.91</td>\n",
       "      <td>3600.0</td>\n",
       "      <td>13.99</td>\n",
       "      <td>0.0</td>\n",
       "      <td>0</td>\n",
       "      <td>1</td>\n",
       "      <td>0</td>\n",
       "      <td>0</td>\n",
       "      <td>0</td>\n",
       "      <td>0</td>\n",
       "      <td>0.0</td>\n",
       "      <td>C</td>\n",
       "    </tr>\n",
       "    <tr>\n",
       "      <th>1</th>\n",
       "      <td>194</td>\n",
       "      <td>0</td>\n",
       "      <td>65000.0</td>\n",
       "      <td>16.06</td>\n",
       "      <td>24700.0</td>\n",
       "      <td>11.99</td>\n",
       "      <td>0.0</td>\n",
       "      <td>0</td>\n",
       "      <td>1</td>\n",
       "      <td>0</td>\n",
       "      <td>0</td>\n",
       "      <td>0</td>\n",
       "      <td>0</td>\n",
       "      <td>0.0</td>\n",
       "      <td>C</td>\n",
       "    </tr>\n",
       "    <tr>\n",
       "      <th>2</th>\n",
       "      <td>186</td>\n",
       "      <td>0</td>\n",
       "      <td>63000.0</td>\n",
       "      <td>10.78</td>\n",
       "      <td>20000.0</td>\n",
       "      <td>10.78</td>\n",
       "      <td>1.0</td>\n",
       "      <td>0</td>\n",
       "      <td>1</td>\n",
       "      <td>0</td>\n",
       "      <td>0</td>\n",
       "      <td>0</td>\n",
       "      <td>0</td>\n",
       "      <td>0.0</td>\n",
       "      <td>B</td>\n",
       "    </tr>\n",
       "    <tr>\n",
       "      <th>3</th>\n",
       "      <td>88</td>\n",
       "      <td>0</td>\n",
       "      <td>110000.0</td>\n",
       "      <td>17.06</td>\n",
       "      <td>35000.0</td>\n",
       "      <td>14.85</td>\n",
       "      <td>1.0</td>\n",
       "      <td>0</td>\n",
       "      <td>1</td>\n",
       "      <td>0</td>\n",
       "      <td>0</td>\n",
       "      <td>0</td>\n",
       "      <td>0</td>\n",
       "      <td>0.0</td>\n",
       "      <td>C</td>\n",
       "    </tr>\n",
       "    <tr>\n",
       "      <th>4</th>\n",
       "      <td>213</td>\n",
       "      <td>0</td>\n",
       "      <td>104433.0</td>\n",
       "      <td>25.37</td>\n",
       "      <td>10400.0</td>\n",
       "      <td>22.45</td>\n",
       "      <td>1.0</td>\n",
       "      <td>0</td>\n",
       "      <td>1</td>\n",
       "      <td>0</td>\n",
       "      <td>0</td>\n",
       "      <td>0</td>\n",
       "      <td>0</td>\n",
       "      <td>0.0</td>\n",
       "      <td>F</td>\n",
       "    </tr>\n",
       "  </tbody>\n",
       "</table>\n",
       "</div>"
      ],
      "text/plain": [
       "   credit_hist  bankrupt  annual_inc    dti  loan_amnt  int_rate  term_60  \\\n",
       "0          150         0     55000.0   5.91     3600.0     13.99      0.0   \n",
       "1          194         0     65000.0  16.06    24700.0     11.99      0.0   \n",
       "2          186         0     63000.0  10.78    20000.0     10.78      1.0   \n",
       "3           88         0    110000.0  17.06    35000.0     14.85      1.0   \n",
       "4          213         0    104433.0  25.37    10400.0     22.45      1.0   \n",
       "\n",
       "   home_ownership_ANY  home_ownership_MORTGAGE  home_ownership_NONE  \\\n",
       "0                   0                        1                    0   \n",
       "1                   0                        1                    0   \n",
       "2                   0                        1                    0   \n",
       "3                   0                        1                    0   \n",
       "4                   0                        1                    0   \n",
       "\n",
       "   home_ownership_OTHER  home_ownership_OWN  home_ownership_RENT  loan_status  \\\n",
       "0                     0                   0                    0          0.0   \n",
       "1                     0                   0                    0          0.0   \n",
       "2                     0                   0                    0          0.0   \n",
       "3                     0                   0                    0          0.0   \n",
       "4                     0                   0                    0          0.0   \n",
       "\n",
       "  grade  \n",
       "0     C  \n",
       "1     C  \n",
       "2     B  \n",
       "3     C  \n",
       "4     F  "
      ]
     },
     "execution_count": 25,
     "metadata": {},
     "output_type": "execute_result"
    }
   ],
   "source": [
    "# Concatenate all the processed dataframes into a single one\n",
    "working_data = pd.concat([p_df,\n",
    "                          capacity_df,\n",
    "                          c_df,\n",
    "                          col_df,\n",
    "                          loan_status_df,\n",
    "                          df['grade']], axis=1, sort=False)\n",
    "working_data.head()"
   ]
  },
  {
   "cell_type": "code",
   "execution_count": 26,
   "metadata": {},
   "outputs": [
    {
     "data": {
      "image/png": "[encoded data removed]",
      "text/plain": [
       "<Figure size 640x480 with 1 Axes>"
      ]
     },
     "metadata": {},
     "output_type": "display_data"
    }
   ],
   "source": [
    "ax = working_data.loan_status.value_counts().plot(kind='bar')\n",
    "labels = ['Non-Default', 'Default']\n",
    "ax.set_xticklabels(labels, rotation='horizontal')\n",
    "ax.set_ylabel('Number of Loans')\n",
    "ax.set_title(\"Non-Default vs. Default Loans\")\n",
    "plt.show()"
   ]
  },
  {
   "cell_type": "code",
   "execution_count": 27,
   "metadata": {},
   "outputs": [],
   "source": [
    "working_data = working_data.dropna()\n",
    "working_data.to_parquet('../../data/working_data_pd.parquet')"
   ]
  }
 ],
 "metadata": {
  "kernelspec": {
   "display_name": "credit-risk",
   "language": "python",
   "name": "python3"
  },
  "language_info": {
   "codemirror_mode": {
    "name": "ipython",
    "version": 3
   },
   "file_extension": ".py",
   "mimetype": "text/x-python",
   "name": "python",
   "nbconvert_exporter": "python",
   "pygments_lexer": "ipython3",
   "version": "3.12.1"
  }
 },
 "nbformat": 4,
 "nbformat_minor": 2
}
