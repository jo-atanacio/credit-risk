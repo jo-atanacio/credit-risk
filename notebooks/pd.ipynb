{
 "cells": [
  {
   "cell_type": "code",
   "execution_count": 1,
   "metadata": {},
   "outputs": [],
   "source": [
    "import numpy as np # linear algebra\n",
    "import pandas as pd # data processing, CSV file I/O (e.g. pd.read_csv)\n",
    "import matplotlib.pyplot as plt\n",
    "\n",
    "\n",
    "from imblearn.ensemble import BalancedBaggingClassifier\n",
    "from sklearn.tree import DecisionTreeClassifier\n",
    "from sklearn.model_selection import train_test_split\n",
    "from sklearn.linear_model import LogisticRegression\n",
    "from sklearn.dummy import DummyClassifier\n",
    "from sklearn.metrics import (accuracy_score, f1_score, \n",
    "                             confusion_matrix, recall_score, \n",
    "                             classification_report, \n",
    "                             roc_curve, roc_auc_score)\n",
    "from imblearn.over_sampling import SMOTE"
   ]
  },
  {
   "cell_type": "markdown",
   "metadata": {},
   "source": [
    "## Load data"
   ]
  },
  {
   "cell_type": "code",
   "execution_count": 2,
   "metadata": {},
   "outputs": [],
   "source": [
    "data = pd.read_parquet('../data/working_data.parquet')"
   ]
  },
  {
   "cell_type": "code",
   "execution_count": 3,
   "metadata": {},
   "outputs": [
    {
     "data": {
      "text/plain": [
       "loan_status\n",
       "0.0    1957056\n",
       "1.0     303612\n",
       "Name: count, dtype: int64"
      ]
     },
     "execution_count": 3,
     "metadata": {},
     "output_type": "execute_result"
    }
   ],
   "source": [
    "data.loan_status.value_counts()"
   ]
  },
  {
   "cell_type": "markdown",
   "metadata": {},
   "source": [
    "# Undersampling "
   ]
  },
  {
   "cell_type": "code",
   "execution_count": 4,
   "metadata": {},
   "outputs": [],
   "source": [
    "# Shuffle the Dataset.\n",
    "random_data = data.sample(frac=1, random_state=42)\n",
    "\n",
    "# Put all the fraud class in a separate dataset.\n",
    "default_df = random_data.loc[random_data['loan_status'] == 1]\n",
    "\n",
    "#Randomly select 297033 observations from the non-fraud (majority class)\n",
    "non_default_df = random_data.loc[random_data['loan_status'] == 0].sample(n=303612, random_state=42)\n",
    "\n",
    "us_df = pd.concat([default_df, non_default_df])"
   ]
  },
  {
   "cell_type": "code",
   "execution_count": 5,
   "metadata": {},
   "outputs": [
    {
     "data": {
      "text/html": [
       "<div>\n",
       "<style scoped>\n",
       "    .dataframe tbody tr th:only-of-type {\n",
       "        vertical-align: middle;\n",
       "    }\n",
       "\n",
       "    .dataframe tbody tr th {\n",
       "        vertical-align: top;\n",
       "    }\n",
       "\n",
       "    .dataframe thead th {\n",
       "        text-align: right;\n",
       "    }\n",
       "</style>\n",
       "<table border=\"1\" class=\"dataframe\">\n",
       "  <thead>\n",
       "    <tr style=\"text-align: right;\">\n",
       "      <th></th>\n",
       "      <th>credit_hist</th>\n",
       "      <th>bankrupt</th>\n",
       "      <th>annual_inc</th>\n",
       "      <th>dti</th>\n",
       "      <th>loan_amnt</th>\n",
       "      <th>int_rate</th>\n",
       "      <th>term_60</th>\n",
       "      <th>home_ownership_ANY</th>\n",
       "      <th>home_ownership_MORTGAGE</th>\n",
       "      <th>home_ownership_NONE</th>\n",
       "      <th>home_ownership_OTHER</th>\n",
       "      <th>home_ownership_OWN</th>\n",
       "      <th>home_ownership_RENT</th>\n",
       "      <th>loan_status</th>\n",
       "      <th>grade</th>\n",
       "    </tr>\n",
       "  </thead>\n",
       "  <tbody>\n",
       "    <tr>\n",
       "      <th>1262703</th>\n",
       "      <td>155</td>\n",
       "      <td>0</td>\n",
       "      <td>66000.0</td>\n",
       "      <td>29.24</td>\n",
       "      <td>17500.0</td>\n",
       "      <td>9.17</td>\n",
       "      <td>1.0</td>\n",
       "      <td>0</td>\n",
       "      <td>0</td>\n",
       "      <td>0</td>\n",
       "      <td>0</td>\n",
       "      <td>0</td>\n",
       "      <td>1</td>\n",
       "      <td>1.0</td>\n",
       "      <td>B</td>\n",
       "    </tr>\n",
       "    <tr>\n",
       "      <th>240099</th>\n",
       "      <td>269</td>\n",
       "      <td>0</td>\n",
       "      <td>76000.0</td>\n",
       "      <td>21.40</td>\n",
       "      <td>10000.0</td>\n",
       "      <td>13.33</td>\n",
       "      <td>1.0</td>\n",
       "      <td>0</td>\n",
       "      <td>0</td>\n",
       "      <td>0</td>\n",
       "      <td>0</td>\n",
       "      <td>0</td>\n",
       "      <td>1</td>\n",
       "      <td>1.0</td>\n",
       "      <td>C</td>\n",
       "    </tr>\n",
       "    <tr>\n",
       "      <th>1241161</th>\n",
       "      <td>61</td>\n",
       "      <td>0</td>\n",
       "      <td>38400.0</td>\n",
       "      <td>14.28</td>\n",
       "      <td>5200.0</td>\n",
       "      <td>20.20</td>\n",
       "      <td>0.0</td>\n",
       "      <td>0</td>\n",
       "      <td>0</td>\n",
       "      <td>0</td>\n",
       "      <td>0</td>\n",
       "      <td>0</td>\n",
       "      <td>1</td>\n",
       "      <td>1.0</td>\n",
       "      <td>E</td>\n",
       "    </tr>\n",
       "    <tr>\n",
       "      <th>1919505</th>\n",
       "      <td>247</td>\n",
       "      <td>0</td>\n",
       "      <td>92000.0</td>\n",
       "      <td>28.31</td>\n",
       "      <td>25000.0</td>\n",
       "      <td>19.72</td>\n",
       "      <td>1.0</td>\n",
       "      <td>0</td>\n",
       "      <td>0</td>\n",
       "      <td>0</td>\n",
       "      <td>0</td>\n",
       "      <td>0</td>\n",
       "      <td>1</td>\n",
       "      <td>1.0</td>\n",
       "      <td>D</td>\n",
       "    </tr>\n",
       "    <tr>\n",
       "      <th>392562</th>\n",
       "      <td>360</td>\n",
       "      <td>1</td>\n",
       "      <td>56000.0</td>\n",
       "      <td>17.19</td>\n",
       "      <td>6000.0</td>\n",
       "      <td>8.19</td>\n",
       "      <td>0.0</td>\n",
       "      <td>0</td>\n",
       "      <td>0</td>\n",
       "      <td>0</td>\n",
       "      <td>0</td>\n",
       "      <td>1</td>\n",
       "      <td>0</td>\n",
       "      <td>1.0</td>\n",
       "      <td>A</td>\n",
       "    </tr>\n",
       "  </tbody>\n",
       "</table>\n",
       "</div>"
      ],
      "text/plain": [
       "         credit_hist  bankrupt  annual_inc    dti  loan_amnt  int_rate  \\\n",
       "1262703          155         0     66000.0  29.24    17500.0      9.17   \n",
       "240099           269         0     76000.0  21.40    10000.0     13.33   \n",
       "1241161           61         0     38400.0  14.28     5200.0     20.20   \n",
       "1919505          247         0     92000.0  28.31    25000.0     19.72   \n",
       "392562           360         1     56000.0  17.19     6000.0      8.19   \n",
       "\n",
       "         term_60  home_ownership_ANY  home_ownership_MORTGAGE  \\\n",
       "1262703      1.0                   0                        0   \n",
       "240099       1.0                   0                        0   \n",
       "1241161      0.0                   0                        0   \n",
       "1919505      1.0                   0                        0   \n",
       "392562       0.0                   0                        0   \n",
       "\n",
       "         home_ownership_NONE  home_ownership_OTHER  home_ownership_OWN  \\\n",
       "1262703                    0                     0                   0   \n",
       "240099                     0                     0                   0   \n",
       "1241161                    0                     0                   0   \n",
       "1919505                    0                     0                   0   \n",
       "392562                     0                     0                   1   \n",
       "\n",
       "         home_ownership_RENT  loan_status grade  \n",
       "1262703                    1          1.0     B  \n",
       "240099                     1          1.0     C  \n",
       "1241161                    1          1.0     E  \n",
       "1919505                    1          1.0     D  \n",
       "392562                     0          1.0     A  "
      ]
     },
     "execution_count": 5,
     "metadata": {},
     "output_type": "execute_result"
    }
   ],
   "source": [
    "us_df.head()"
   ]
  },
  {
   "cell_type": "markdown",
   "metadata": {},
   "source": [
    "## Logistic Regression"
   ]
  },
  {
   "cell_type": "code",
   "execution_count": 6,
   "metadata": {},
   "outputs": [],
   "source": [
    "# Create X and y using undersampled dataframe\n",
    "X = us_df.drop(['loan_status', 'grade'], axis=1)\n",
    "y = us_df['loan_status']\n",
    "\n",
    "X_train_us, X_test_us, y_train_us, y_test_us = train_test_split(X, y, test_size=.3, random_state=5)"
   ]
  },
  {
   "cell_type": "code",
   "execution_count": 7,
   "metadata": {},
   "outputs": [],
   "source": [
    "model_us = LogisticRegression().fit(X_train_us, np.ravel(y_train_us))\n",
    "\n",
    "# Create predictions of probability for loan status using test data\n",
    "# .predict_proba creates an array of probabilities of default: [[non-defualt, default]]\n",
    "preds = model_us.predict_proba(X_test_us)\n",
    "\n",
    "# # Create dataframes of predictions and true labels\n",
    "preds_df = pd.DataFrame(preds[:,1][0:], columns = ['PD'])\n",
    "true_df = y_test_us"
   ]
  },
  {
   "cell_type": "code",
   "execution_count": 8,
   "metadata": {},
   "outputs": [
    {
     "name": "stdout",
     "output_type": "stream",
     "text": [
      "        loan_status        PD\n",
      "0               0.0  0.562883\n",
      "1               1.0  0.631598\n",
      "2               0.0  0.232929\n",
      "3               1.0  0.235652\n",
      "4               0.0  0.397166\n",
      "...             ...       ...\n",
      "182163          1.0  0.705568\n",
      "182164          1.0  0.408220\n",
      "182165          1.0  0.427067\n",
      "182166          0.0  0.381537\n",
      "182167          1.0  0.566775\n",
      "\n",
      "[182168 rows x 2 columns]\n"
     ]
    }
   ],
   "source": [
    "# Concatenate and print the two data frames for comparison\n",
    "print(pd.concat([true_df.reset_index(drop = True), preds_df], axis = 1))"
   ]
  },
  {
   "cell_type": "code",
   "execution_count": 9,
   "metadata": {},
   "outputs": [
    {
     "name": "stdout",
     "output_type": "stream",
     "text": [
      "Non-Default / Default predictions at 65% Threshhold: \n",
      "pred_loan_status\n",
      "0    157653\n",
      "1     24515\n",
      "Name: count, dtype: int64\n"
     ]
    }
   ],
   "source": [
    "# Reassign loan status based on the threshold and print the predictions\n",
    "preds_df['pred_loan_status'] = preds_df['PD'].apply(lambda x: 1 if x > 0.65 else 0)\n",
    "print(\"Non-Default / Default predictions at 65% Threshhold: \")\n",
    "print(preds_df['pred_loan_status'].value_counts())"
   ]
  },
  {
   "cell_type": "code",
   "execution_count": 10,
   "metadata": {},
   "outputs": [
    {
     "name": "stdout",
     "output_type": "stream",
     "text": [
      "Confusion Matrix at 65% Threshhold: \n",
      "[[83731  7537]\n",
      " [73922 16978]]\n"
     ]
    }
   ],
   "source": [
    "# Print the confusion matrix\n",
    "print(\"Confusion Matrix at 65% Threshhold: \")\n",
    "print(confusion_matrix(y_test_us, preds_df['pred_loan_status']))"
   ]
  },
  {
   "cell_type": "code",
   "execution_count": 11,
   "metadata": {},
   "outputs": [
    {
     "name": "stdout",
     "output_type": "stream",
     "text": [
      "              precision    recall  f1-score   support\n",
      "\n",
      " Non-Default       0.53      0.92      0.67     91268\n",
      "     Default       0.69      0.19      0.29     90900\n",
      "\n",
      "    accuracy                           0.55    182168\n",
      "   macro avg       0.61      0.55      0.48    182168\n",
      "weighted avg       0.61      0.55      0.48    182168\n",
      "\n"
     ]
    }
   ],
   "source": [
    "# Print the classification report\n",
    "target_names = ['Non-Default', 'Default']\n",
    "print(classification_report(y_test_us, preds_df['pred_loan_status'], target_names=target_names))"
   ]
  },
  {
   "cell_type": "code",
   "execution_count": 12,
   "metadata": {},
   "outputs": [
    {
     "name": "stdout",
     "output_type": "stream",
     "text": [
      "0.6082407448069913\n"
     ]
    },
    {
     "data": {
      "image/png": "[encoded data removed]",
      "text/plain": [
       "<Figure size 640x480 with 1 Axes>"
      ]
     },
     "metadata": {},
     "output_type": "display_data"
    },
    {
     "name": "stdout",
     "output_type": "stream",
     "text": [
      "The AUC score is:  0.6485209183143849\n"
     ]
    }
   ],
   "source": [
    "# Print the accuracy score of the model\n",
    "print(model_us.score(X_test_us, y_test_us))\n",
    "\n",
    "prob_default = preds[:, 1]\n",
    "fallout, sensitivity, thresholds = roc_curve(y_test_us, prob_default)\n",
    "plt.plot(fallout, sensitivity, color = 'darkorange')\n",
    "plt.plot([0, 1], [0, 1], linestyle='--')\n",
    "plt.title(\"ROC Chart for LR on PD w/ Undersampling\")\n",
    "plt.xlabel(\"Fall-out\")\n",
    "plt.ylabel(\"Sensitivity\")\n",
    "plt.show()\n",
    "\n",
    "\n",
    "auc = roc_auc_score(y_test_us, prob_default)\n",
    "print(\"The AUC score is: \", auc)"
   ]
  },
  {
   "cell_type": "markdown",
   "metadata": {},
   "source": [
    "# Oversampling"
   ]
  },
  {
   "cell_type": "code",
   "execution_count": 13,
   "metadata": {},
   "outputs": [],
   "source": [
    "# Create X and y using processed_df\n",
    "\n",
    "X = data.drop(['loan_status', 'grade'], axis=1)\n",
    "y = data['loan_status']\n",
    "\n",
    "X_train, X_test, y_train, y_test = train_test_split(X, y, test_size=.3, random_state=5)"
   ]
  },
  {
   "cell_type": "code",
   "execution_count": 14,
   "metadata": {},
   "outputs": [],
   "source": [
    "# Resample the minority class. You can change the strategy to 'auto' if you are not sure.\n",
    "sm = SMOTE(sampling_strategy='auto', random_state=7)\n",
    "\n",
    "# Fit the model to generate the data.\n",
    "oversampled_trainX, oversampled_trainY = sm.fit_resample(X_train, y_train)\n",
    "oversampled_train = pd.concat([pd.DataFrame(oversampled_trainY), pd.DataFrame(oversampled_trainX)], axis=1)\n",
    "oversampled_train.columns = data.drop(['grade'], axis=1).columns"
   ]
  },
  {
   "cell_type": "code",
   "execution_count": 15,
   "metadata": {},
   "outputs": [],
   "source": [
    "model_os = LogisticRegression().fit(oversampled_trainX, np.ravel(oversampled_trainY))\n",
    "\n",
    "# Create predictions of probability for loan status using test data\n",
    "# .predict_proba creates an array of probabilities of default: [[non-defualt, default]]\n",
    "preds = model_os.predict_proba(X_test)\n",
    "\n",
    "# # Create dataframes of predictions and true labels\n",
    "preds_df_os = pd.DataFrame(preds[:,1][0:], columns = ['PD'])\n",
    "true_df_os = y_test"
   ]
  },
  {
   "cell_type": "code",
   "execution_count": 16,
   "metadata": {},
   "outputs": [
    {
     "name": "stdout",
     "output_type": "stream",
     "text": [
      "        loan_status        PD\n",
      "0               0.0  0.628499\n",
      "1               1.0  0.511214\n",
      "2               0.0  0.333079\n",
      "3               1.0  0.436930\n",
      "4               0.0  0.398162\n",
      "...             ...       ...\n",
      "678196          NaN  0.492461\n",
      "678197          NaN  0.554884\n",
      "678198          NaN  0.535228\n",
      "678199          NaN  0.409220\n",
      "678200          NaN  0.449542\n",
      "\n",
      "[678201 rows x 2 columns]\n"
     ]
    }
   ],
   "source": [
    "# Concatenate and print the two data frames for comparison\n",
    "print(pd.concat([true_df.reset_index(drop = True), preds_df_os], axis = 1))"
   ]
  },
  {
   "cell_type": "code",
   "execution_count": 17,
   "metadata": {},
   "outputs": [
    {
     "name": "stdout",
     "output_type": "stream",
     "text": [
      "Non-Default / Default predictions at 65% Threshhold: \n",
      "pred_loan_status\n",
      "0    639419\n",
      "1     38782\n",
      "Name: count, dtype: int64\n"
     ]
    }
   ],
   "source": [
    "# Reassign loan status based on the threshold and print the predictions\n",
    "preds_df_os['pred_loan_status'] = preds_df_os['PD'].apply(lambda x: 1 if x > 0.65 else 0)\n",
    "print(\"Non-Default / Default predictions at 65% Threshhold: \")\n",
    "print(preds_df_os['pred_loan_status'].value_counts())"
   ]
  },
  {
   "cell_type": "code",
   "execution_count": 18,
   "metadata": {},
   "outputs": [
    {
     "name": "stdout",
     "output_type": "stream",
     "text": [
      "Confusion Matrix at 65% Threshhold: \n",
      "[[557551  29035]\n",
      " [ 81868   9747]]\n"
     ]
    }
   ],
   "source": [
    "# Print the confusion matrix\n",
    "print(\"Confusion Matrix at 65% Threshhold: \")\n",
    "print(confusion_matrix(y_test, preds_df_os['pred_loan_status']))"
   ]
  },
  {
   "cell_type": "code",
   "execution_count": 19,
   "metadata": {},
   "outputs": [
    {
     "name": "stdout",
     "output_type": "stream",
     "text": [
      "              precision    recall  f1-score   support\n",
      "\n",
      " Non-Default       0.87      0.95      0.91    586586\n",
      "     Default       0.25      0.11      0.15     91615\n",
      "\n",
      "    accuracy                           0.84    678201\n",
      "   macro avg       0.56      0.53      0.53    678201\n",
      "weighted avg       0.79      0.84      0.81    678201\n",
      "\n"
     ]
    }
   ],
   "source": [
    "# Print the classification report\n",
    "target_names = ['Non-Default', 'Default']\n",
    "print(classification_report(y_test, preds_df_os['pred_loan_status'], target_names=target_names))"
   ]
  },
  {
   "cell_type": "code",
   "execution_count": 20,
   "metadata": {},
   "outputs": [
    {
     "name": "stdout",
     "output_type": "stream",
     "text": [
      "0.5225987575954621\n"
     ]
    },
    {
     "data": {
      "image/png": "[encoded data removed]",
      "text/plain": [
       "<Figure size 640x480 with 1 Axes>"
      ]
     },
     "metadata": {},
     "output_type": "display_data"
    },
    {
     "name": "stdout",
     "output_type": "stream",
     "text": [
      "The AUC score is:  0.626153111242349\n"
     ]
    }
   ],
   "source": [
    "# Print the accuracy score the model\n",
    "print(model_os.score(X_test, y_test))\n",
    "\n",
    "lr_prob_default = preds[:, 1]\n",
    "fallout, sensitivity, thresholds = roc_curve(y_test, lr_prob_default)\n",
    "plt.plot(fallout, sensitivity, color = 'darkorange')\n",
    "plt.plot([0, 1], [0, 1], linestyle='--')\n",
    "plt.title(\"ROC Chart for LR on PD w/ Oversampling\")\n",
    "plt.xlabel(\"Fall-out\")\n",
    "plt.ylabel(\"Sensitivity\")\n",
    "plt.show()\n",
    "\n",
    "\n",
    "auc = roc_auc_score(y_test, lr_prob_default)\n",
    "print(\"The AUC score is: \", auc)"
   ]
  },
  {
   "cell_type": "markdown",
   "metadata": {},
   "source": [
    "## Results -> Undersampling vs Oversampling"
   ]
  },
  {
   "cell_type": "markdown",
   "metadata": {},
   "source": [
    "Model 1 (Undersampling) seems to perform better overall with higher values for accuracy, precision, recall, and F1-score. Model 2 (Oversampling) has higher precision for the \"Default\" class, which means when it predicts a default, it's more likely to be correct. However, Model 1 has higher recall, indicating it's better at identifying true positives for the \"Default\" class.\n",
    "\n",
    "As such, Model 1 is better at identifying defaults and Model 2 is more confident at predicting defaults.\n",
    "\n",
    "For this reason, we will compare Model 2 to another techniue as our goal is to confidently predict defaults."
   ]
  },
  {
   "cell_type": "markdown",
   "metadata": {},
   "source": [
    "### Balanced Bagging Classifier (Oversampling)"
   ]
  },
  {
   "cell_type": "code",
   "execution_count": 21,
   "metadata": {},
   "outputs": [],
   "source": [
    "# Create an object of the classifier and fit oversampled training data to the object\n",
    "bbc = BalancedBaggingClassifier(estimator=DecisionTreeClassifier(),\n",
    "                                sampling_strategy='auto',\n",
    "                                replacement=False,\n",
    "                                random_state=0).fit(oversampled_trainX, np.ravel(oversampled_trainY))\n",
    "\n",
    "# Create predictions of probability for loan status using test data\n",
    "bbc_preds = bbc.predict_proba(X_test)"
   ]
  },
  {
   "cell_type": "code",
   "execution_count": 22,
   "metadata": {},
   "outputs": [
    {
     "name": "stdout",
     "output_type": "stream",
     "text": [
      "        loan_status  bbc_pred_PD\n",
      "0               0.0          0.2\n",
      "1               1.0          0.0\n",
      "2               0.0          0.3\n",
      "3               1.0          0.0\n",
      "4               0.0          0.0\n",
      "...             ...          ...\n",
      "678196          NaN          0.1\n",
      "678197          NaN          0.1\n",
      "678198          NaN          0.1\n",
      "678199          NaN          0.1\n",
      "678200          NaN          0.2\n",
      "\n",
      "[678201 rows x 2 columns]\n"
     ]
    }
   ],
   "source": [
    "# Create dataframes of predictions and true labels\n",
    "bbc_preds_df = pd.DataFrame(bbc_preds[:,1][0:], columns = ['bbc_pred_PD'])\n",
    "true_df_bbc = y_test\n",
    "\n",
    "# Concatenate and print the two data frames for comparison\n",
    "print(pd.concat([true_df.reset_index(drop = True), bbc_preds_df], axis = 1))"
   ]
  },
  {
   "cell_type": "code",
   "execution_count": 23,
   "metadata": {},
   "outputs": [
    {
     "name": "stdout",
     "output_type": "stream",
     "text": [
      "Non-Default / Default predictions at 65% Threshhold: \n",
      "bbc_pred_loan_status\n",
      "0    663321\n",
      "1     14880\n",
      "Name: count, dtype: int64\n"
     ]
    }
   ],
   "source": [
    "# Reassign loan status based on the threshold and print the predictions\n",
    "bbc_preds_df['bbc_pred_loan_status'] = bbc_preds_df['bbc_pred_PD'].apply(lambda x: 1 if x > 0.65 else 0)\n",
    "print(\"Non-Default / Default predictions at 65% Threshhold: \")\n",
    "print(bbc_preds_df['bbc_pred_loan_status'].value_counts())"
   ]
  },
  {
   "cell_type": "code",
   "execution_count": 24,
   "metadata": {},
   "outputs": [
    {
     "name": "stdout",
     "output_type": "stream",
     "text": [
      "Confusion Matrix at 65% Threshhold: \n",
      "[[575895  10691]\n",
      " [ 87426   4189]]\n"
     ]
    }
   ],
   "source": [
    "# Print the confusion matrix\n",
    "print(\"Confusion Matrix at 65% Threshhold: \")\n",
    "print(confusion_matrix(y_test, bbc_preds_df['bbc_pred_loan_status']))"
   ]
  },
  {
   "cell_type": "code",
   "execution_count": 25,
   "metadata": {},
   "outputs": [
    {
     "name": "stdout",
     "output_type": "stream",
     "text": [
      "              precision    recall  f1-score   support\n",
      "\n",
      " Non-Default       0.87      0.98      0.92    586586\n",
      "     Default       0.28      0.05      0.08     91615\n",
      "\n",
      "    accuracy                           0.86    678201\n",
      "   macro avg       0.57      0.51      0.50    678201\n",
      "weighted avg       0.79      0.86      0.81    678201\n",
      "\n"
     ]
    }
   ],
   "source": [
    "# Print the classification report\n",
    "target_names = ['Non-Default', 'Default']\n",
    "print(classification_report(y_test, bbc_preds_df['bbc_pred_loan_status'], target_names=target_names))"
   ]
  },
  {
   "cell_type": "code",
   "execution_count": 26,
   "metadata": {},
   "outputs": [
    {
     "data": {
      "image/png": "[encoded data removed]",
      "text/plain": [
       "<Figure size 640x480 with 1 Axes>"
      ]
     },
     "metadata": {},
     "output_type": "display_data"
    },
    {
     "name": "stdout",
     "output_type": "stream",
     "text": [
      "The AUC score is:  0.6383978092350457\n"
     ]
    }
   ],
   "source": [
    "bbc_prob_default = bbc_preds[:, 1]\n",
    "fallout, sensitivity, thresholds = roc_curve(y_test, bbc_prob_default)\n",
    "plt.plot(fallout, sensitivity, color = 'darkorange')\n",
    "plt.plot([0, 1], [0, 1], linestyle='--')\n",
    "plt.title(\"ROC Chart for BBC on PD\")\n",
    "plt.xlabel(\"Fall-out\")\n",
    "plt.ylabel(\"Sensitivity\")\n",
    "plt.show()\n",
    "\n",
    "bbc_auc = roc_auc_score(y_test, bbc_prob_default)\n",
    "print(\"The AUC score is: \", bbc_auc)"
   ]
  },
  {
   "cell_type": "markdown",
   "metadata": {},
   "source": [
    "### Result -> Oversampling Logistic Regression vs Balance Bagging"
   ]
  },
  {
   "cell_type": "markdown",
   "metadata": {},
   "source": [
    "Logistic regression is better than Balance Bagging Classifier.\n",
    "\n",
    "As such, we will use the results from the logistic regression for other calculations"
   ]
  },
  {
   "cell_type": "markdown",
   "metadata": {},
   "source": [
    "## Exploring Logistic Regression Result"
   ]
  },
  {
   "cell_type": "code",
   "execution_count": 27,
   "metadata": {},
   "outputs": [
    {
     "data": {
      "text/html": [
       "<div>\n",
       "<style scoped>\n",
       "    .dataframe tbody tr th:only-of-type {\n",
       "        vertical-align: middle;\n",
       "    }\n",
       "\n",
       "    .dataframe tbody tr th {\n",
       "        vertical-align: top;\n",
       "    }\n",
       "\n",
       "    .dataframe thead th {\n",
       "        text-align: right;\n",
       "    }\n",
       "</style>\n",
       "<table border=\"1\" class=\"dataframe\">\n",
       "  <thead>\n",
       "    <tr style=\"text-align: right;\">\n",
       "      <th></th>\n",
       "      <th>PD</th>\n",
       "      <th>pred_loan_status</th>\n",
       "    </tr>\n",
       "  </thead>\n",
       "  <tbody>\n",
       "    <tr>\n",
       "      <th>0</th>\n",
       "      <td>0.628499</td>\n",
       "      <td>0</td>\n",
       "    </tr>\n",
       "    <tr>\n",
       "      <th>1</th>\n",
       "      <td>0.511214</td>\n",
       "      <td>0</td>\n",
       "    </tr>\n",
       "    <tr>\n",
       "      <th>2</th>\n",
       "      <td>0.333079</td>\n",
       "      <td>0</td>\n",
       "    </tr>\n",
       "    <tr>\n",
       "      <th>3</th>\n",
       "      <td>0.436930</td>\n",
       "      <td>0</td>\n",
       "    </tr>\n",
       "    <tr>\n",
       "      <th>4</th>\n",
       "      <td>0.398162</td>\n",
       "      <td>0</td>\n",
       "    </tr>\n",
       "    <tr>\n",
       "      <th>...</th>\n",
       "      <td>...</td>\n",
       "      <td>...</td>\n",
       "    </tr>\n",
       "    <tr>\n",
       "      <th>678196</th>\n",
       "      <td>0.492461</td>\n",
       "      <td>0</td>\n",
       "    </tr>\n",
       "    <tr>\n",
       "      <th>678197</th>\n",
       "      <td>0.554884</td>\n",
       "      <td>0</td>\n",
       "    </tr>\n",
       "    <tr>\n",
       "      <th>678198</th>\n",
       "      <td>0.535228</td>\n",
       "      <td>0</td>\n",
       "    </tr>\n",
       "    <tr>\n",
       "      <th>678199</th>\n",
       "      <td>0.409220</td>\n",
       "      <td>0</td>\n",
       "    </tr>\n",
       "    <tr>\n",
       "      <th>678200</th>\n",
       "      <td>0.449542</td>\n",
       "      <td>0</td>\n",
       "    </tr>\n",
       "  </tbody>\n",
       "</table>\n",
       "<p>678201 rows × 2 columns</p>\n",
       "</div>"
      ],
      "text/plain": [
       "              PD  pred_loan_status\n",
       "0       0.628499                 0\n",
       "1       0.511214                 0\n",
       "2       0.333079                 0\n",
       "3       0.436930                 0\n",
       "4       0.398162                 0\n",
       "...          ...               ...\n",
       "678196  0.492461                 0\n",
       "678197  0.554884                 0\n",
       "678198  0.535228                 0\n",
       "678199  0.409220                 0\n",
       "678200  0.449542                 0\n",
       "\n",
       "[678201 rows x 2 columns]"
      ]
     },
     "execution_count": 27,
     "metadata": {},
     "output_type": "execute_result"
    }
   ],
   "source": [
    "preds_df_os"
   ]
  },
  {
   "cell_type": "code",
   "execution_count": 28,
   "metadata": {},
   "outputs": [
    {
     "data": {
      "text/plain": [
       "396949     0.0\n",
       "278106     0.0\n",
       "1456307    0.0\n",
       "806392     0.0\n",
       "1768493    0.0\n",
       "          ... \n",
       "3248       0.0\n",
       "2242452    1.0\n",
       "626771     1.0\n",
       "2224967    0.0\n",
       "2081925    0.0\n",
       "Name: loan_status, Length: 678201, dtype: float64"
      ]
     },
     "execution_count": 28,
     "metadata": {},
     "output_type": "execute_result"
    }
   ],
   "source": [
    "true_df_os"
   ]
  }
 ],
 "metadata": {
  "kernelspec": {
   "display_name": "credit-risk",
   "language": "python",
   "name": "python3"
  },
  "language_info": {
   "codemirror_mode": {
    "name": "ipython",
    "version": 3
   },
   "file_extension": ".py",
   "mimetype": "text/x-python",
   "name": "python",
   "nbconvert_exporter": "python",
   "pygments_lexer": "ipython3",
   "version": "3.12.1"
  }
 },
 "nbformat": 4,
 "nbformat_minor": 2
}
